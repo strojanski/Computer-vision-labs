{
 "cells": [
  {
   "attachments": {},
   "cell_type": "markdown",
   "metadata": {},
   "source": [
    "# Assignment 6: Reduction of dimensionality and recognition"
   ]
  },
  {
   "attachments": {},
   "cell_type": "markdown",
   "metadata": {},
   "source": [
    "### Exercise 1: Direct PCA method"
   ]
  },
  {
   "cell_type": "code",
   "execution_count": 1,
   "metadata": {},
   "outputs": [],
   "source": [
    "import numpy as np\n",
    "import cv2\n",
    "import matplotlib.pyplot as plt"
   ]
  },
  {
   "attachments": {},
   "cell_type": "markdown",
   "metadata": {},
   "source": [
    "#### a) Analytically compute eigenvectors and eigenvalues given four points."
   ]
  },
  {
   "attachments": {},
   "cell_type": "markdown",
   "metadata": {},
   "source": [
    "#### b) Calculate and visualize PCA for 2D data from `points.txt`."
   ]
  },
  {
   "cell_type": "code",
   "execution_count": 219,
   "metadata": {},
   "outputs": [],
   "source": [
    "from a6_utils import *"
   ]
  },
  {
   "cell_type": "code",
   "execution_count": 84,
   "metadata": {},
   "outputs": [],
   "source": [
    "def covariance_matrix(data: np.ndarray) -> np.ndarray:\n",
    "    '''\n",
    "        Calculates the covariance matrix\n",
    "    '''\n",
    "    \n",
    "    cov_matrix = np.zeros((data.shape[1], data.shape[1]))\n",
    "    for i in range(data.shape[1]):\n",
    "        for j in range(data.shape[1]):\n",
    "            cov_matrix[i,j] = np.sum((data[:, i] - np.mean(data[:, i])) * (data[:, j] - np.mean(data[:, j]))) / (data.shape[0] - 1)\n",
    "    return cov_matrix"
   ]
  },
  {
   "cell_type": "code",
   "execution_count": 216,
   "metadata": {},
   "outputs": [],
   "source": [
    "def pca(pts: np.ndarray) -> np.ndarray:\n",
    "    '''\n",
    "        Projects and reconstructs points with direct PCA algorithm\n",
    "    '''\n",
    "\n",
    "    mean = np.mean(pts, axis=0)\n",
    "    centered = pts - mean\n",
    "\n",
    "    print(centered)\n",
    "            \n",
    "    cov = covariance_matrix(centered.T)\n",
    "    \n",
    "    U,S,VT = np.linalg.svd(cov)\n",
    "    S = S[:2]\n",
    "    U = U[:, :]\n",
    "\n",
    "    projected = np.matmul(U, centered)\n",
    "    reconstructed = np.matmul(U, projected) + mean\n",
    "    cov = np.cov(pts.T)\n",
    "    \n",
    "    return cov, reconstructed, (U[:, :2], S)"
   ]
  },
  {
   "cell_type": "code",
   "execution_count": 231,
   "metadata": {},
   "outputs": [],
   "source": [
    "def pca(points, k):\n",
    "    # Center the data\n",
    "    mean = np.mean(points, axis=0)\n",
    "    centered_data = points - mean\n",
    "\n",
    "    # Compute the covariance matrix\n",
    "    covariance_matrix = np.cov(centered_data.T)\n",
    "\n",
    "    # Compute the eigenvectors and eigenvalues of the covariance matrix\n",
    "    eigenvalues, eigenvectors = np.linalg.eig(covariance_matrix)\n",
    "\n",
    "    # Sort the eigenvectors and eigenvalues in decreasing order of eigenvalue\n",
    "    idx = eigenvalues.argsort()[::-1]\n",
    "    eigenvalues = eigenvalues[idx]\n",
    "    eigenvectors = eigenvectors[:, idx]\n",
    "\n",
    "    # Select the top k eigenvectors\n",
    "    top_k_eigenvectors = eigenvectors[:, :k]\n",
    "\n",
    "    # Project the centered data onto the principal components\n",
    "    projected_data = centered_data @ top_k_eigenvectors\n",
    "\n",
    "    # Calculate the mean and covariance of the projected data\n",
    "    projected_mean = np.mean(projected_data, axis=0)\n",
    "    projected_covariance = np.cov(projected_data.T)\n",
    "\n",
    "    # Draw the representation of the Gaussian distribution\n",
    "    drawEllipse(projected_mean, projected_covariance)\n",
    "\n",
    "    return projected_data, projected_mean, projected_covariance\n"
   ]
  },
  {
   "cell_type": "code",
   "execution_count": 232,
   "metadata": {},
   "outputs": [
    {
     "data": {
      "image/png": "[encoded data removed]",
      "text/plain": [
       "<Figure size 640x480 with 1 Axes>"
      ]
     },
     "metadata": {},
     "output_type": "display_data"
    }
   ],
   "source": [
    "\n",
    "orig_points = np.loadtxt(\"data/points.txt\")\n",
    "points = orig_points.copy()\n",
    "\n",
    "#cov, reconstructed, (eigenvectors, eigenvalues) = pca(points)\n",
    "projected_data, projecte_mean, projected_cov = pca(points, 2)\n",
    "\n",
    "#mu = (np.mean(reconstructed[:, 0]), np.mean(reconstructed[:, 1]))\n",
    "#drawEllipse(projecte_mean, projected_cov)\n",
    "\n",
    "plt.scatter(list(map(lambda x: x[0], points)), list(map(lambda x: x[1], points)))\n",
    "\n",
    "for pt in range(len(points)):\n",
    "    plt.annotate(pt+1, (points[pt][0], points[pt][1]))\n"
   ]
  }
 ],
 "metadata": {
  "kernelspec": {
   "display_name": "Python 3",
   "language": "python",
   "name": "python3"
  },
  "language_info": {
   "codemirror_mode": {
    "name": "ipython",
    "version": 3
   },
   "file_extension": ".py",
   "mimetype": "text/x-python",
   "name": "python",
   "nbconvert_exporter": "python",
   "pygments_lexer": "ipython3",
   "version": "3.8.10"
  },
  "orig_nbformat": 4,
  "vscode": {
   "interpreter": {
    "hash": "916dbcbb3f70747c44a77c7bcd40155683ae19c65e1c03b4aa3499c5328201f1"
   }
  }
 },
 "nbformat": 4,
 "nbformat_minor": 2
}
